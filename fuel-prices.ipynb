{
 "cells": [
  {
   "cell_type": "code",
   "execution_count": 2,
   "metadata": {},
   "outputs": [],
   "source": [
    "import requests\n",
    "import json"
   ]
  },
  {
   "cell_type": "code",
   "execution_count": 3,
   "metadata": {},
   "outputs": [
    {
     "name": "stdout",
     "output_type": "stream",
     "text": [
      "[{'name': '11-Seven Yagoona', 'type': 'E10', 'price': 171.7, 'suburb': 'Yagoona', 'state': 'NSW', 'postcode': '2199', 'lat': -33.90761, 'lng': 151.02077}, {'name': '11-Seven Malaga', 'type': 'U91', 'price': 171.9, 'suburb': 'Malaga', 'state': 'WA', 'postcode': '6090', 'lat': -31.856765117479, 'lng': 115.90790662794}, {'name': '11-Seven Malaga', 'type': 'U95', 'price': 184.9, 'suburb': 'Malaga', 'state': 'WA', 'postcode': '6090', 'lat': -31.856765117479, 'lng': 115.90790662794}, {'name': '11-Seven Malaga', 'type': 'U98', 'price': 191.9, 'suburb': 'Malaga', 'state': 'WA', 'postcode': '6090', 'lat': -31.856765117479, 'lng': 115.90790662794}, {'name': '11-Seven Yagoona', 'type': 'Diesel', 'price': 185.7, 'suburb': 'Yagoona', 'state': 'NSW', 'postcode': '2199', 'lat': -33.90761, 'lng': 151.02077}, {'name': '11-Seven Croydon Hills', 'type': 'LPG', 'price': 78.9, 'suburb': 'Croydon', 'state': 'VIC', 'postcode': '3136', 'lat': -37.783172914717, 'lng': 145.2677340183}]\n"
     ]
    }
   ],
   "source": [
    "url = \"https://projectzerothree.info/api.php?format=json\"\n",
    "page = requests.get(url)\n",
    "\n",
    "data = json.loads(page.text)\n",
    "best_prices = data.get(\"regions\")[0].get(\"prices\")\n",
    "print(best_prices)\n",
    "# soup = BeautifulSoup(page.content, 'html.parser')"
   ]
  },
  {
   "cell_type": "code",
   "execution_count": 4,
   "metadata": {},
   "outputs": [
    {
     "name": "stdout",
     "output_type": "stream",
     "text": [
      "None E10\n",
      "None U91\n",
      "None U95\n",
      "None U98\n",
      "None Diesel\n",
      "None LPG\n"
     ]
    }
   ],
   "source": [
    "for price in best_prices:\n",
    "    print(price.get(\"fuel\"), price.get(\"type\"))"
   ]
  }
 ],
 "metadata": {
  "kernelspec": {
   "display_name": "docker-airflow-3.9.16",
   "language": "python",
   "name": "python3"
  },
  "language_info": {
   "codemirror_mode": {
    "name": "ipython",
    "version": 3
   },
   "file_extension": ".py",
   "mimetype": "text/x-python",
   "name": "python",
   "nbconvert_exporter": "python",
   "pygments_lexer": "ipython3",
   "version": "3.11.0"
  },
  "orig_nbformat": 4,
  "vscode": {
   "interpreter": {
    "hash": "8527f3ad1514305e62a4657e4cef9634bbef25e4ff5c140e584c56324de82f8f"
   }
  }
 },
 "nbformat": 4,
 "nbformat_minor": 2
}
