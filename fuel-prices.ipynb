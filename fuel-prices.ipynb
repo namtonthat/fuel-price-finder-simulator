{
 "cells": [
  {
   "cell_type": "code",
   "execution_count": 8,
   "metadata": {},
   "outputs": [],
   "source": [
    "import pandas as pd\n",
    "# from bs4 import BeautifulSoup\n",
    "import requests\n",
    "import json"
   ]
  },
  {
   "cell_type": "code",
   "execution_count": 3,
   "metadata": {},
   "outputs": [],
   "source": [
    "url = \"https://projectzerothree.info/api.php?format=json\"\n",
    "page = requests.get(url)\n",
    "# soup = BeautifulSoup(page.content, 'html.parser')"
   ]
  },
  {
   "cell_type": "code",
   "execution_count": null,
   "metadata": {},
   "outputs": [],
   "source": []
  },
  {
   "cell_type": "code",
   "execution_count": 11,
   "metadata": {},
   "outputs": [],
   "source": [
    "data = json.loads(page.text)"
   ]
  },
  {
   "cell_type": "code",
   "execution_count": 21,
   "metadata": {},
   "outputs": [],
   "source": [
    "best_prices = data.get('regions')[0].get('prices')"
   ]
  },
  {
   "cell_type": "code",
   "execution_count": 35,
   "metadata": {},
   "outputs": [],
   "source": [
    "from dataclasses import dataclass\n",
    "\n",
    "@dataclass\n",
    "class FuelPrice:\n",
    "    state: str\n",
    "    postcode: str\n",
    "    price: float\n",
    "    suburb: str\n",
    "    name: str\n",
    "    lat: float\n",
    "    lng: float\n",
    "    type: str\n",
    "    \n",
    "    @property \n",
    "    def location(self): \n",
    "        return f\"{self.suburb}, {self.state} {self.postcode}\"\n",
    "    \n",
    "    @property \n",
    "    def gps(self): \n",
    "        return (self.lat, self.lng)"
   ]
  },
  {
   "cell_type": "code",
   "execution_count": 37,
   "metadata": {},
   "outputs": [
    {
     "name": "stdout",
     "output_type": "stream",
     "text": [
      "FuelPrice(state='WA', postcode='6065', price=165.9, suburb='Landsdale', name='11-Seven Landsdale', lat=-31.805033366763, lng=115.83575668334, type='U91')\n",
      "Landsdale, WA 6065\n"
     ]
    }
   ],
   "source": [
    "selected_fuel_type = \"U91\"\n",
    "for fuel_type_best_price in best_prices:\n",
    "    single_fuel_price = FuelPrice(**fuel_type_best_price)\n",
    "    if selected_fuel_type == single_fuel_price.type:\n",
    "        print(single_fuel_price)\n",
    "        print(single_fuel_price.location)\n",
    "    "
   ]
  },
  {
   "cell_type": "code",
   "execution_count": null,
   "metadata": {},
   "outputs": [],
   "source": []
  },
  {
   "cell_type": "code",
   "execution_count": 41,
   "metadata": {},
   "outputs": [],
   "source": [
    "prices = {}\n",
    "for i in range(0, len(best_prices)): \n",
    "    price_info = best_prices[i].find_all('td')\n",
    "    fuel_type = price_info[0].text\n",
    "    price = price_info[1].text\n",
    "    location_list = [i.text for i in price_info[3:6]]\n",
    "    location = ' '.join(location_list)\n",
    "    prices[fuel_type] = [price, location]\n",
    "\n",
    "## To call another fuel type - return prices.get('fuelType')\n",
    "## Available fuelTypes are\n",
    "## E10, U91, U98, Diesel, LPG\n",
    "sys.exit(prices.get('U91')[1])"
   ]
  }
 ],
 "metadata": {
  "kernelspec": {
   "display_name": "docker-airflow-3.9.16",
   "language": "python",
   "name": "python3"
  },
  "language_info": {
   "codemirror_mode": {
    "name": "ipython",
    "version": 3
   },
   "file_extension": ".py",
   "mimetype": "text/x-python",
   "name": "python",
   "nbconvert_exporter": "python",
   "pygments_lexer": "ipython3",
   "version": "3.9.16"
  },
  "orig_nbformat": 4,
  "vscode": {
   "interpreter": {
    "hash": "8527f3ad1514305e62a4657e4cef9634bbef25e4ff5c140e584c56324de82f8f"
   }
  }
 },
 "nbformat": 4,
 "nbformat_minor": 2
}
